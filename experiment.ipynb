{
 "cells": [
  {
   "cell_type": "code",
   "execution_count": 2,
   "metadata": {},
   "outputs": [],
   "source": [
    "from datetime import datetime\n",
    "from pydantic import BaseModel\n",
    "\n",
    "class Candle(BaseModel):\n",
    "    ts: datetime\n",
    "    meta: str\n",
    "    open: float\n",
    "    high: float\n",
    "    low: float\n",
    "    close: float\n",
    "    volume: float"
   ]
  },
  {
   "cell_type": "code",
   "execution_count": 3,
   "metadata": {},
   "outputs": [],
   "source": [
    "import pymongo\n",
    "import os\n",
    "from dotenv import load_dotenv\n",
    "\n",
    "load_dotenv()\n",
    "\n",
    "client = pymongo.MongoClient(os.environ.get(\"MONGO_URL\"))\n",
    "database = client.get_database(os.environ.get(\"DATABASE\"))\n",
    "candles_collection = database.get_collection(\"MinuteCandles\")"
   ]
  },
  {
   "cell_type": "code",
   "execution_count": 53,
   "metadata": {},
   "outputs": [],
   "source": [
    "from datetime import datetime, timedelta\n",
    "\n",
    "start_date = datetime.now() - timedelta(days=2)\n",
    "historical_data = list(candles_collection.aggregate([\n",
    "    {\n",
    "        '$match': {\n",
    "            'meta': 'NSE_INDEX|Nifty 50',\n",
    "            \"ts\": {\"$gt\": start_date}\n",
    "        }\n",
    "    }, {\n",
    "        '$addFields': {\n",
    "            'roundedTime': {\n",
    "                '$toDate': {\n",
    "                    '$subtract': [\n",
    "                        {\n",
    "                            '$toLong': '$ts'\n",
    "                        }, {\n",
    "                            '$mod': [\n",
    "                                {\n",
    "                                    '$toLong': '$ts'\n",
    "                                }, 1000 * 60 * 60\n",
    "                            ]\n",
    "                        }\n",
    "                    ]\n",
    "                }\n",
    "            }\n",
    "        }\n",
    "    }, {\n",
    "        '$group': {\n",
    "            '_id': '$roundedTime', \n",
    "            'open': {\n",
    "                '$first': '$open'\n",
    "            }, \n",
    "            'high': {\n",
    "                '$max': '$high'\n",
    "            }, \n",
    "            'low': {\n",
    "                '$min': '$low'\n",
    "            }, \n",
    "            'close': {\n",
    "                '$last': '$close'\n",
    "            }\n",
    "        }\n",
    "    }, {\n",
    "        '$addFields': {\n",
    "            'diff': {\n",
    "                '$abs': {\n",
    "                    '$subtract': [\n",
    "                        '$high', '$low'\n",
    "                    ]\n",
    "                }\n",
    "            }\n",
    "        }\n",
    "    }, {\n",
    "        '$sort': {\n",
    "            '_id': 1\n",
    "        }\n",
    "    }\n",
    "]))\n",
    "\n",
    "# candles_list: list[Candle] = []\n",
    "# for data in historical_data:\n",
    "#     candles_list.append(Candle(**data))"
   ]
  },
  {
   "cell_type": "code",
   "execution_count": 54,
   "metadata": {},
   "outputs": [
    {
     "data": {
      "text/plain": [
       "[11.849999999998545, 28.549999999999272]"
      ]
     },
     "execution_count": 54,
     "metadata": {},
     "output_type": "execute_result"
    }
   ],
   "source": [
    "len(historical_data)\n",
    "[ candle.get(\"diff\") for candle in historical_data]"
   ]
  },
  {
   "cell_type": "code",
   "execution_count": 55,
   "metadata": {},
   "outputs": [
    {
     "data": {
      "text/plain": [
       "(array([19650.16666667, 19650.25      , 19650.33333333, 19650.41666667,\n",
       "        19650.5       , 19650.58333333, 19650.66666667, 19650.75      ,\n",
       "        19650.83333333, 19650.91666667, 19651.        ]),\n",
       " [Text(19650.166666666668, 0, '10-20 04'),\n",
       "  Text(19650.25, 0, '10-20 06'),\n",
       "  Text(19650.333333333332, 0, '10-20 08'),\n",
       "  Text(19650.416666666668, 0, '10-20 10'),\n",
       "  Text(19650.5, 0, '10-20 12'),\n",
       "  Text(19650.583333333332, 0, '10-20 14'),\n",
       "  Text(19650.666666666668, 0, '10-20 16'),\n",
       "  Text(19650.75, 0, '10-20 18'),\n",
       "  Text(19650.833333333332, 0, '10-20 20'),\n",
       "  Text(19650.916666666668, 0, '10-20 22'),\n",
       "  Text(19651.0, 0, '10-21 00')])"
      ]
     },
     "execution_count": 55,
     "metadata": {},
     "output_type": "execute_result"
    },
    {
     "data": {
      "image/png": "[encoded data removed]",
      "text/plain": [
       "<Figure size 640x480 with 1 Axes>"
      ]
     },
     "metadata": {},
     "output_type": "display_data"
    }
   ],
   "source": [
    "import matplotlib.pyplot as plt\n",
    "import numpy as np\n",
    "\n",
    "xpoints = [candle.get(\"_id\") for candle in historical_data]\n",
    "ypoints = [candle.get(\"diff\") for candle in historical_data]\n",
    "\n",
    "# fig, ax = plt.subplots(figsize=(20, 4))\n",
    "plt.bar(xpoints, ypoints, color ='red',edgecolor='black')\n",
    "plt.xticks(rotation=45)\n",
    "# plt.show()"
   ]
  },
  {
   "cell_type": "code",
   "execution_count": 11,
   "metadata": {},
   "outputs": [
    {
     "ename": "ValueError",
     "evalue": "Column \"High\" NOT FOUND in Input DataFrame!\n            CHECK that your column names are correct AND/OR\n            CHECK for leading or trailing blanks in your column names.",
     "output_type": "error",
     "traceback": [
      "\u001b[0;31m---------------------------------------------------------------------------\u001b[0m",
      "\u001b[0;31mValueError\u001b[0m                                Traceback (most recent call last)",
      "Cell \u001b[0;32mIn[11], line 36\u001b[0m\n\u001b[1;32m     33\u001b[0m data\u001b[39m.\u001b[39mset_index(\u001b[39m'\u001b[39m\u001b[39mDate\u001b[39m\u001b[39m'\u001b[39m, inplace\u001b[39m=\u001b[39m\u001b[39mTrue\u001b[39;00m)\n\u001b[1;32m     35\u001b[0m \u001b[39m# Create a candlestick chart\u001b[39;00m\n\u001b[0;32m---> 36\u001b[0m mpf\u001b[39m.\u001b[39;49mplot(data, \u001b[39mtype\u001b[39;49m\u001b[39m=\u001b[39;49m\u001b[39m'\u001b[39;49m\u001b[39mcandle\u001b[39;49m\u001b[39m'\u001b[39;49m)\n",
      "File \u001b[0;32m~/Library/Python/3.9/lib/python/site-packages/mplfinance/plotting.py:417\u001b[0m, in \u001b[0;36mplot\u001b[0;34m(data, **kwargs)\u001b[0m\n\u001b[1;32m    414\u001b[0m \u001b[39m# translate alias types:\u001b[39;00m\n\u001b[1;32m    415\u001b[0m config[\u001b[39m'\u001b[39m\u001b[39mtype\u001b[39m\u001b[39m'\u001b[39m] \u001b[39m=\u001b[39m _get_valid_plot_types(config[\u001b[39m'\u001b[39m\u001b[39mtype\u001b[39m\u001b[39m'\u001b[39m])\n\u001b[0;32m--> 417\u001b[0m dates,opens,highs,lows,closes,volumes \u001b[39m=\u001b[39m _check_and_prepare_data(data, config)\n\u001b[1;32m    419\u001b[0m config[\u001b[39m'\u001b[39m\u001b[39mxlim\u001b[39m\u001b[39m'\u001b[39m] \u001b[39m=\u001b[39m _check_and_convert_xlim_configuration(data, config)\n\u001b[1;32m    421\u001b[0m \u001b[39mif\u001b[39;00m config[\u001b[39m'\u001b[39m\u001b[39mtype\u001b[39m\u001b[39m'\u001b[39m] \u001b[39min\u001b[39;00m VALID_PMOVE_TYPES \u001b[39mand\u001b[39;00m config[\u001b[39m'\u001b[39m\u001b[39maddplot\u001b[39m\u001b[39m'\u001b[39m] \u001b[39mis\u001b[39;00m \u001b[39mnot\u001b[39;00m \u001b[39mNone\u001b[39;00m:\n",
      "File \u001b[0;32m~/Library/Python/3.9/lib/python/site-packages/mplfinance/_arg_validators.py:58\u001b[0m, in \u001b[0;36m_check_and_prepare_data\u001b[0;34m(data, config)\u001b[0m\n\u001b[1;32m     54\u001b[0m             \u001b[39mif\u001b[39;00m dc\u001b[39m.\u001b[39mstrip() \u001b[39m!=\u001b[39m dc:\n\u001b[1;32m     55\u001b[0m                 warnings\u001b[39m.\u001b[39mwarn(\u001b[39m'\u001b[39m\u001b[39m\\n\u001b[39;00m\u001b[39m ================================================================= \u001b[39m\u001b[39m'\u001b[39m\u001b[39m+\u001b[39m\n\u001b[1;32m     56\u001b[0m                               \u001b[39m'\u001b[39m\u001b[39m\\n\u001b[39;00m\u001b[39m   Input DataFrame column name \u001b[39m\u001b[39m\"\u001b[39m\u001b[39m'\u001b[39m\u001b[39m+\u001b[39mdc\u001b[39m+\u001b[39m\u001b[39m'\u001b[39m\u001b[39m\"\u001b[39m\u001b[39m \u001b[39m\u001b[39m'\u001b[39m\u001b[39m+\u001b[39m\n\u001b[1;32m     57\u001b[0m                               \u001b[39m'\u001b[39m\u001b[39m\\n\u001b[39;00m\u001b[39m   contains leading and/or trailing whitespace.\u001b[39m\u001b[39m'\u001b[39m,category\u001b[39m=\u001b[39m\u001b[39mUserWarning\u001b[39;00m)\n\u001b[0;32m---> 58\u001b[0m         \u001b[39mraise\u001b[39;00m \u001b[39mValueError\u001b[39;00m(\u001b[39m'\u001b[39m\u001b[39mColumn \u001b[39m\u001b[39m\"\u001b[39m\u001b[39m'\u001b[39m\u001b[39m+\u001b[39mcol\u001b[39m+\u001b[39m\u001b[39m'\u001b[39m\u001b[39m\"\u001b[39m\u001b[39m NOT FOUND in Input DataFrame!\u001b[39m\u001b[39m'\u001b[39m\u001b[39m+\u001b[39m\n\u001b[1;32m     59\u001b[0m                          \u001b[39m'\u001b[39m\u001b[39m\\n\u001b[39;00m\u001b[39m            CHECK that your column names are correct AND/OR\u001b[39m\u001b[39m'\u001b[39m\u001b[39m+\u001b[39m\n\u001b[1;32m     60\u001b[0m                          \u001b[39m'\u001b[39m\u001b[39m\\n\u001b[39;00m\u001b[39m            CHECK for leading or trailing blanks in your column names.\u001b[39m\u001b[39m'\u001b[39m)\n\u001b[1;32m     62\u001b[0m opens   \u001b[39m=\u001b[39m data[o]\u001b[39m.\u001b[39mvalues\n\u001b[1;32m     63\u001b[0m highs   \u001b[39m=\u001b[39m data[h]\u001b[39m.\u001b[39mvalues\n",
      "\u001b[0;31mValueError\u001b[0m: Column \"High\" NOT FOUND in Input DataFrame!\n            CHECK that your column names are correct AND/OR\n            CHECK for leading or trailing blanks in your column names."
     ]
    }
   ],
   "source": [
    "import pandas as pd\n",
    "import mplfinance as mpf\n",
    "\n",
    "date_list = []\n",
    "open_list = []\n",
    "high_list = []\n",
    "low_list = []\n",
    "close_list = []\n",
    "\n",
    "for candle in historical_data:\n",
    "    date_list.append(candle.get(\"_id\"))\n",
    "    open_list.append(candle.get(\"open\"))\n",
    "    high_list.append(candle.get(\"high\"))\n",
    "    low_list.append(candle.get(\"low\"))\n",
    "    close_list.append(candle.get(\"close\"))\n",
    "\n",
    "\n",
    "\n",
    "\n",
    "# Sample OHLC data\n",
    "data = pd.DataFrame({\n",
    "    'Date': date_list,\n",
    "    'Open': open_list,\n",
    "    'High': high_list,\n",
    "    'Low': low_list,\n",
    "    'Close': close_list,\n",
    "})\n",
    "\n",
    "# Convert the 'Date' column to a datetime format\n",
    "data['Date'] = pd.to_datetime(data['Date'])\n",
    "\n",
    "# Set the 'Date' column as the index\n",
    "data.set_index('Date', inplace=True)\n",
    "\n",
    "# Create a candlestick chart\n",
    "mpf.plot(data, type='candle')\n"
   ]
  },
  {
   "cell_type": "code",
   "execution_count": 17,
   "metadata": {},
   "outputs": [],
   "source": [
    "def project_profit(instrument_key: str, entry_time: datetime, stop_loss_percent: float, trailing_percent: float):\n",
    "    \"\"\"\n",
    "    Projects profit/loss based on entry time and trailing stop loss\n",
    "\n",
    "    The bot will execute sell order whenever the stoploss hits. If stoplos doesn't hit, it will sell at 3PM.\n",
    "\n",
    "    Here stop loss is update every minute because we have minute interval of data.\n",
    "    In real world it is suposed to be updated every consecutive api call.\n",
    "\n",
    "    Args:\n",
    "        - `instrument_key` (str) : ID of the premium \n",
    "        - `entry_time` (datetime) : Time when entered\n",
    "        - `stop_loss_percent` (float) : % of trailing stop loss set for the premium\n",
    "        - `trailing_percent` (float) : % of increase before stop loss is updated\n",
    "    \"\"\"\n",
    "    entry_price: float = -1\n",
    "    stop_loss: float = -1\n",
    "    exit_price: float = -1\n",
    "    trailing_target: float = -1\n",
    "\n",
    "    historical_data = list(candles_collection.find({\n",
    "        \"meta\": instrument_key\n",
    "    }))\n",
    "\n",
    "        \n",
    "    value_list = []\n",
    "    for data in historical_data:\n",
    "        candle: Candle = Candle(**data)\n",
    "        \n",
    "        # Entry \n",
    "        if(candle.ts > entry_time and entry_price == -1):\n",
    "            entry_price = candle.open\n",
    "            stop_loss = entry_price - entry_price*stop_loss_percent\n",
    "            trailing_target = entry_price + entry_price*trailing_percent\n",
    "            print(stop_loss)\n",
    "        \n",
    "        if entry_price != -1:\n",
    "            # Exit\n",
    "            if (candle.low < stop_loss):\n",
    "                exit_price = candle.close\n",
    "                break\n",
    "\n",
    "            # Trailing Stoploss\n",
    "            if (candle.high > trailing_target):\n",
    "                stop_loss = stop_loss + stop_loss*trailing_percent\n",
    "                trailing_target = trailing_target + trailing_target*trailing_percent\n",
    "            \n",
    "            value = {\n",
    "                \"stop_loss\": stop_loss,\n",
    "                \"trailing_target\": trailing_target,\n",
    "                \"premium\": candle.low,\n",
    "                \"time\": candle.ts\n",
    "            }\n",
    "            value_list.append(value)\n",
    "            \n",
    "    \n",
    "    profit = exit_price - entry_price\n",
    "\n",
    "    result = {\n",
    "        \"EntryTime\": entry_time,\n",
    "        \"ExitTime\": candle.ts,\n",
    "        \"EntryPrice\": entry_price,\n",
    "        \"ExitPrice\": exit_price,\n",
    "        \"Profit\": exit_price - entry_price,\n",
    "        \"Profit %\":  (profit/entry_price)*100,\n",
    "    }\n",
    "    print(result)\n",
    "    return value_list"
   ]
  },
  {
   "cell_type": "code",
   "execution_count": 24,
   "metadata": {},
   "outputs": [
    {
     "name": "stdout",
     "output_type": "stream",
     "text": [
      "130.5\n",
      "{'EntryTime': datetime.datetime(2023, 10, 20, 11, 47), 'ExitTime': datetime.datetime(2023, 10, 20, 13, 45), 'EntryPrice': 145.0, 'ExitPrice': 137.7, 'Profit': -7.300000000000011, 'Profit %': -5.0344827586206975}\n"
     ]
    }
   ],
   "source": [
    "value_list = project_profit(\n",
    "    instrument_key=\"NSE_FO|50112\",\n",
    "    entry_time=datetime(\n",
    "        year=2023,\n",
    "        month=10,\n",
    "        day=20,\n",
    "        hour=11,\n",
    "        minute=47,\n",
    "        second=0\n",
    "    ),\n",
    "    stop_loss_percent=10/100,\n",
    "    trailing_percent=1/100\n",
    ")\n",
    "\n"
   ]
  },
  {
   "cell_type": "code",
   "execution_count": 25,
   "metadata": {},
   "outputs": [
    {
     "data": {
      "image/png": "[encoded data removed]",
      "text/plain": [
       "<Figure size 640x480 with 1 Axes>"
      ]
     },
     "metadata": {},
     "output_type": "display_data"
    }
   ],
   "source": [
    "import matplotlib.pyplot as plt\n",
    "\n",
    "# Data for the line graph\n",
    "time_list = [value.get(\"time\") for value in value_list]\n",
    "premium_list = [value.get(\"premium\") for value in value_list]\n",
    "stop_loss_list = [value.get(\"stop_loss\") for value in value_list]\n",
    "trailing_target_list = [value.get(\"trailing_target\") for value in value_list]\n",
    "\n",
    "# Create the line graph\n",
    "plt.plot(time_list, premium_list, label=\"Premium\")\n",
    "plt.plot(time_list, stop_loss_list, label=\"StopLoss\")\n",
    "plt.plot(time_list, trailing_target_list, label=\"TrailingTarget\")\n",
    "\n",
    "# Adding labels and a title\n",
    "plt.xlabel('X-axis')\n",
    "plt.ylabel('Y-axis')\n",
    "plt.title('Line Graph Example')\n",
    "\n",
    "# Display the plot\n",
    "plt.show()"
   ]
  }
 ],
 "metadata": {
  "kernelspec": {
   "display_name": "Python 3",
   "language": "python",
   "name": "python3"
  },
  "language_info": {
   "codemirror_mode": {
    "name": "ipython",
    "version": 3
   },
   "file_extension": ".py",
   "mimetype": "text/x-python",
   "name": "python",
   "nbconvert_exporter": "python",
   "pygments_lexer": "ipython3",
   "version": "3.9.6"
  },
  "orig_nbformat": 4
 },
 "nbformat": 4,
 "nbformat_minor": 2
}
